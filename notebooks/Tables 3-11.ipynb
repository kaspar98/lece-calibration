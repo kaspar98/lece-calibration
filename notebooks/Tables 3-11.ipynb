{
 "cells": [
  {
   "cell_type": "code",
   "execution_count": null,
   "metadata": {},
   "outputs": [],
   "source": [
    "import os\n",
    "import sys\n",
    "\n",
    "module_path = os.path.abspath(os.path.join('..'))\n",
    "if module_path not in sys.path:\n",
    "    sys.path.append(module_path)\n",
    "\n",
    "from src.helpers.tables import create_table, df_to_latex, rename_df, add_hline, add_double_column_header\n",
    "from src.helpers.load_save_data import load_experiment_data\n",
    "\n",
    "import numpy as np\n",
    "import pandas as pd\n",
    "from IPython.display import display"
   ]
  },
  {
   "cell_type": "markdown",
   "metadata": {},
   "source": [
    "# Main experiment tables\n",
    "\n",
    "Brier-score, accurary, log-loss, confidence ECE, classwisce ECE."
   ]
  },
  {
   "cell_type": "code",
   "execution_count": null,
   "metadata": {
    "pycharm": {
     "name": "#%%\n"
    },
    "scrolled": false
   },
   "outputs": [],
   "source": [
    "methods = [\n",
    "    \"uncalibrated\",\n",
    "    \"isotonic\",\n",
    "    \"LECE_KL\",   \n",
    "    \"MS\",\n",
    "    \"iop_diag\",\n",
    "    \"GP\",\n",
    "    \"TS\",\n",
    "    \"dec2TS\",\n",
    "    \"TS_isotonic\",\n",
    "    \"TS_LECE_KL\",\n",
    "]\n",
    "\n",
    "metrics = [\"bs\", \"ll\", \"conf_ece\", \"cw_ece\", \"accuracy\"] \n",
    "roundings = [4, 3, 2, 3, 3]\n",
    "\n",
    "for m_idx in range(len(metrics)):\n",
    "    metric = metrics[m_idx]\n",
    "    rounding = roundings[m_idx]\n",
    "\n",
    "    df_c10 = create_table(datasets=[\"densenet40_c10\", \"resnet110_c10\", \"resnet_wide32_c10\"],\n",
    "                          metric=metric, experiment_names=methods,\n",
    "                          add_avg_rank=True, rounding=rounding, n_bins=15)\n",
    "\n",
    "    df_c100 = create_table(datasets=[\"densenet40_c100\", \"resnet110_c100\", \"resnet_wide32_c100\"],\n",
    "                          metric=metric, experiment_names=methods,\n",
    "                          add_avg_rank=True, rounding=rounding, n_bins=15)\n",
    "\n",
    "    df_combined = rename_df(df_c10).append(df_c100))\n",
    "\n",
    "    latex = df_to_latex(df_combined)\n",
    "    latex = add_hline(latex, [6, 7, 10],\n",
    "                      lengths=[(2, len(methods) + 2),\n",
    "                               (1, len(methods) + 2),\n",
    "                               (2, len(methods) + 2)])\n",
    "    latex = add_double_column_header(latex, [\"\", \"ours\", \"\", \"ours\"], [4,1,6,1])\n",
    "    latex = add_hline(latex, [2],lengths=[(len(methods) + 2, len(methods) + 2)])\n",
    "    latex = add_hline(latex, [2],lengths=[(5,5)])\n",
    "\n",
    "    print(metric)\n",
    "    print(latex)\n",
    "    display(df_combined)"
   ]
  },
  {
   "cell_type": "markdown",
   "metadata": {},
   "source": [
    "# Ablation study\n",
    "Log-loss, confidence ECE, classwise ECE"
   ]
  },
  {
   "cell_type": "code",
   "execution_count": null,
   "metadata": {},
   "outputs": [],
   "source": [
    "methods = [\"LECE_KL\", \"LECE_EUC\", \"LECD_KL\", \"TS_LECE_KL\", \"TS_LECE_EUC\", \"TS_LECD_KL\"]\n",
    "metrics = [\"ll\", \"conf_ece\", \"cw_ece\"] \n",
    "roundings = [3, 2, 3]\n",
    "\n",
    "for m_idx in range(len(metrics)):\n",
    "    metric = metrics[m_idx]\n",
    "    rounding = roundings[m_idx]\n",
    "\n",
    "    df_c10 = create_table(datasets=[\"densenet40_c10\", \"resnet110_c10\", \"resnet_wide32_c10\"],\n",
    "                          metric=metric, experiment_names=methods,\n",
    "                          add_avg_rank=True, rounding=rounding, n_bins=15)\n",
    "\n",
    "    df_c100 = create_table(datasets=[\"densenet40_c100\", \"resnet110_c100\", \"resnet_wide32_c100\"],\n",
    "                          metric=metric, experiment_names=methods,\n",
    "                          add_avg_rank=True, rounding=rounding, n_bins=15)\n",
    "    \n",
    "    df_combined = rename_df(df_c10.append(df_c100))\n",
    "    \n",
    "    latex = df_to_latex(df_combined)\n",
    "    latex = add_hline(latex, [6, 7, 10],\n",
    "                      lengths=[(2, len(methods) + 2),\n",
    "                               (1, len(methods) + 2),\n",
    "                               (2, len(methods) + 2)])\n",
    "    print(metric)\n",
    "    print(latex)\n",
    "    display(df_combined)"
   ]
  },
  {
   "cell_type": "markdown",
   "metadata": {},
   "source": [
    "# Ablation study hyperparams\n",
    "Neighborhood size, threshold"
   ]
  },
  {
   "cell_type": "code",
   "execution_count": null,
   "metadata": {},
   "outputs": [],
   "source": [
    "methods = [\"LECE_KL\", \"LECE_EUC\", \"LECD_KL\", \"TS_LECE_KL\", \"TS_LECE_EUC\", \"TS_LECD_KL\"]\n",
    "\n",
    "for hyperparam in [\"neighborhood_size\", \"threshold\"]:\n",
    "\n",
    "    df = {}\n",
    "\n",
    "    for (dataset, model) in [(\"c10\", \"densenet40\"),\n",
    "                             (\"c10\", \"resnet110\"),\n",
    "                             (\"c10\", \"resnet_wide32\"),\n",
    "                             (\"c100\", \"densenet40\"),\n",
    "                             (\"c100\", \"resnet110\"),\n",
    "                             (\"c100\", \"resnet_wide32\")\n",
    "                            ]:\n",
    "        dataset_model = model + \"_\" + dataset\n",
    "        df[(dataset, model)] = {}\n",
    "\n",
    "        for method in methods:\n",
    "            exp_data = load_experiment_data(dataset=dataset_model, experiment_name=method)\n",
    "            df[(dataset, model)][method] = str(exp_data.cv_best_hyperparams[hyperparam])\n",
    "            \n",
    "    df = pd.DataFrame.from_dict(df).T\n",
    "    df = rename_df(df)\n",
    "\n",
    "    latex = df_to_latex(df)\n",
    "    latex = add_hline(latex, [6], lengths=[(1, len(methods) + 2)])\n",
    "    \n",
    "    print(hyperparam)\n",
    "    print(latex)\n",
    "    display(df)\n"
   ]
  }
 ],
 "metadata": {
  "kernelspec": {
   "display_name": "Python 3 (ipykernel)",
   "language": "python",
   "name": "python3"
  },
  "language_info": {
   "codemirror_mode": {
    "name": "ipython",
    "version": 3
   },
   "file_extension": ".py",
   "mimetype": "text/x-python",
   "name": "python",
   "nbconvert_exporter": "python",
   "pygments_lexer": "ipython3",
   "version": "3.8.5"
  }
 },
 "nbformat": 4,
 "nbformat_minor": 1
}
