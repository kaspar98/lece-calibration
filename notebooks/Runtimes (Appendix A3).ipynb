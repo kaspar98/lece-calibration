{
 "cells": [
  {
   "cell_type": "markdown",
   "metadata": {},
   "source": [
    "Runtime analysis of LECE and LECD for Section 4.2.5"
   ]
  },
  {
   "cell_type": "code",
   "execution_count": null,
   "metadata": {},
   "outputs": [],
   "source": [
    "import os\n",
    "import sys\n",
    "\n",
    "module_path = os.path.abspath(os.path.join('..'))\n",
    "if module_path not in sys.path:\n",
    "    sys.path.append(module_path)\n",
    "\n",
    "from src.helpers.load_save_data import load_experiment_data\n",
    "from src.CONFIG import DATASETS\n",
    "\n",
    "import pandas as pd\n",
    "from src.experiments.lece import NeighborhoodCalibrator\n",
    "from src.experiments.temp_scaling import TemperatureScaling\n",
    "from src.helpers.vector_functions import normalize_by_sum, minkowski_dist, kullback_leibler, uniform_weights_for_proportionally_k_closest"
   ]
  },
  {
   "cell_type": "code",
   "execution_count": null,
   "metadata": {},
   "outputs": [],
   "source": [
    "!pip install line_profiler\n",
    "from line_profiler import LineProfiler"
   ]
  },
  {
   "cell_type": "code",
   "execution_count": null,
   "metadata": {},
   "outputs": [],
   "source": [
    "def print_avg_runtimes(fun, arg, n_seeds=1):\n",
    "    lp = LineProfiler()\n",
    "    lp_wrapper = lp(fun)\n",
    "\n",
    "    for _ in range(n_seeds):\n",
    "        lp_wrapper(arg)\n",
    "\n",
    "    print(f\"Runtime of {n_seeds} runs\")\n",
    "    lp.print_stats()"
   ]
  },
  {
   "cell_type": "markdown",
   "metadata": {},
   "source": [
    "# LECE"
   ]
  },
  {
   "cell_type": "code",
   "execution_count": null,
   "metadata": {
    "scrolled": true
   },
   "outputs": [],
   "source": [
    "for dataset in DATASETS:\n",
    "    print(dataset)\n",
    "    data_uncal = load_experiment_data(dataset, \"uncalibrated\")\n",
    "    best_params = load_experiment_data(dataset, \"LECE_KL\").cv_best_hyperparams\n",
    "\n",
    "    calibrator = NeighborhoodCalibrator(**best_params)\n",
    "    calibrator.fit(data_uncal.cal_p_train, data_uncal.y_train)\n",
    "   \n",
    "    print_avg_runtimes(calibrator.predict, data_uncal.cal_p_test)"
   ]
  },
  {
   "cell_type": "markdown",
   "metadata": {},
   "source": [
    "# LECD"
   ]
  },
  {
   "cell_type": "code",
   "execution_count": null,
   "metadata": {},
   "outputs": [],
   "source": [
    "for dataset in DATASETS:\n",
    "    print(dataset)\n",
    "    data_uncal = load_experiment_data(dataset, \"uncalibrated\")\n",
    "    best_params = load_experiment_data(dataset, \"LECD_KL\").cv_best_hyperparams\n",
    "\n",
    "    calibrator = NeighborhoodCalibrator(**best_params)\n",
    "    calibrator.fit(data_uncal.cal_p_train, data_uncal.y_train)\n",
    "   \n",
    "    print_avg_runtimes(calibrator.predict, data_uncal.cal_p_test)"
   ]
  },
  {
   "cell_type": "markdown",
   "metadata": {},
   "source": [
    "# TS+LECE"
   ]
  },
  {
   "cell_type": "code",
   "execution_count": null,
   "metadata": {},
   "outputs": [],
   "source": [
    "for dataset in DATASETS:\n",
    "    print(dataset)\n",
    "    data_uncal_logits = load_experiment_data(dataset, \"uncalibrated_logits\")\n",
    "    best_params = load_experiment_data(dataset, \"TS_LECE_KL\").cv_best_hyperparams\n",
    "\n",
    "    def compositional_predict(logits_test):\n",
    "        calibrator1 = TemperatureScaling()\n",
    "        calibrator1.fit(data_uncal_logits.cal_p_train, data_uncal_logits.y_train)\n",
    "        p_train = calibrator1.predict(data_uncal_logits.cal_p_train)\n",
    "        p_test = calibrator1.predict(data_uncal_logits.cal_p_test)\n",
    "\n",
    "        calibrator2 = NeighborhoodCalibrator(**best_params)\n",
    "        calibrator2.fit(p_train, data_uncal_logits.y_train)\n",
    "\n",
    "        return calibrator2.predict(p_test)\n",
    "    \n",
    "    print_avg_runtimes(compositional_predict, data_uncal_logits.cal_p_test)"
   ]
  },
  {
   "cell_type": "markdown",
   "metadata": {},
   "source": [
    "# TS+LECD"
   ]
  },
  {
   "cell_type": "code",
   "execution_count": null,
   "metadata": {},
   "outputs": [],
   "source": [
    "for dataset in DATASETS:\n",
    "    print(dataset)\n",
    "    data_uncal_logits = load_experiment_data(dataset, \"uncalibrated_logits\")\n",
    "    best_params = load_experiment_data(dataset, \"TS_LECD_KL\").cv_best_hyperparams\n",
    "\n",
    "    def compositional_predict(logits_test):\n",
    "        calibrator1 = TemperatureScaling()\n",
    "        calibrator1.fit(data_uncal_logits.cal_p_train, data_uncal_logits.y_train)\n",
    "        p_train = calibrator1.predict(data_uncal_logits.cal_p_train)\n",
    "        p_test = calibrator1.predict(data_uncal_logits.cal_p_test)\n",
    "\n",
    "        calibrator2 = NeighborhoodCalibrator(**best_params)\n",
    "        calibrator2.fit(p_train, data_uncal_logits.y_train)\n",
    "\n",
    "        return calibrator2.predict(p_test)\n",
    "    \n",
    "    print_avg_runtimes(compositional_predict, data_uncal_logits.cal_p_test)"
   ]
  }
 ],
 "metadata": {
  "kernelspec": {
   "display_name": "Python 3 (ipykernel)",
   "language": "python",
   "name": "python3"
  },
  "language_info": {
   "codemirror_mode": {
    "name": "ipython",
    "version": 3
   },
   "file_extension": ".py",
   "mimetype": "text/x-python",
   "name": "python",
   "nbconvert_exporter": "python",
   "pygments_lexer": "ipython3",
   "version": "3.8.5"
  }
 },
 "nbformat": 4,
 "nbformat_minor": 4
}
